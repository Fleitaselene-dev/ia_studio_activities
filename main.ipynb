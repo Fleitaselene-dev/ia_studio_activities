{
 "cells": [
  {
   "cell_type": "markdown",
   "id": "e9117f56",
   "metadata": {},
   "source": [
    "# Gestion de hospital con implementacion de IA"
   ]
  },
  {
   "cell_type": "markdown",
   "id": "2a4fc1d9",
   "metadata": {},
   "source": [
    "### Un hospital público quiere implementar un asistente inteligente que ayude al personal médico a  responder preguntas de pacientes y analizar imágenes médicas."
   ]
  },
  {
   "cell_type": "markdown",
   "id": "4c336d0e",
   "metadata": {},
   "source": [
    "- Reflexión:\n",
    "    El modelo entrega una respuesta completa y clara, pero tarda unos segundos en mostrarla, ya que genera todo el texto antes de imprimirlo."
   ]
  },
  {
   "cell_type": "code",
   "execution_count": 6,
   "id": "a792a50b",
   "metadata": {},
   "outputs": [
    {
     "name": "stdout",
     "output_type": "stream",
     "text": [
      "¡Claro que sí! Vamos a explicarlo de forma muy sencilla.\n",
      "\n",
      "---\n",
      "\n",
      "### ¿Qué es la Hipertensión Arterial? (La Presión Alta)\n",
      "\n",
      "Imagina tu corazón como una bomba y tus arterias (los tubos que llevan la sangre) como una red de mangueras.\n",
      "\n",
      "La **hipertensión arterial** (o simplemente \"presión alta\") ocurre cuando la sangre, al ser bombeada por el corazón, ejerce una **presión demasiado fuerte y constante** contra las paredes de esas \"mangueras\" (tus arterias).\n",
      "\n",
      "Piensa en una manguera de jardín: si la presión del agua dentro de ella es siempre muy fuerte, con el tiempo la manguera se daña, se debilita o incluso puede reventar. Lo mismo pasa con tus arterias y tu corazón.\n",
      "\n",
      "**El problema es que, al principio, no suele dar síntomas.** Por eso se la conoce como \"el asesino silencioso\". La gente puede tener presión alta durante años sin saberlo. Pero si no se controla, esta presión alta constante fuerza al corazón a trabajar más y daña poco a poco las paredes de las arterias y otros órganos vitales, llevando a problemas de salud muy graves.\n",
      "\n",
      "---\n",
      "\n",
      "### ¿Cómo puede prevenirse? (Y controlarse si ya la tienes)\n",
      "\n",
      "La buena noticia es que la hipertensión es, en gran medida, **prevenible** y **controlable** con cambios en tu estilo de vida. Aquí te decimos cómo:\n",
      "\n",
      "1.  **Come de forma Saludable:**\n",
      "    *   **Menos sal:** Es el enemigo número uno. La sal hace que el cuerpo retenga líquidos y sube la presión. Evita procesados, embutidos, sopas de sobre y reduce la sal al cocinar.\n",
      "    *   **Más frutas y verduras:** Aportan vitaminas, minerales (como el potasio, que ayuda a balancear la sal) y fibra. Apuesta por la variedad y los colores.\n",
      "    *   **Grasas saludables:** Opta por aceite de oliva, aguacate, frutos secos. Reduce las grasas saturadas (fritos, bollería, carnes muy grasas).\n",
      "    *   **Menos azúcar:** Las bebidas azucaradas y los dulces pueden contribuir al aumento de peso y, por ende, a la presión alta.\n",
      "\n",
      "2.  **Mantente Activo Físicamente:**\n",
      "    *   Moverse ayuda al corazón a ser más eficiente y a mantener las arterias flexibles. No tienes que ser un atleta; basta con **caminar rápido 30 minutos al día, la mayoría de los días de la semana**, o cualquier otra actividad que te guste (bailar, nadar, montar bici).\n",
      "\n",
      "3.  **Mantén un Peso Saludable:**\n",
      "    *   El exceso de peso, especialmente la grasa abdominal, fuerza más al corazón y eleva la presión arterial. Perder incluso unos pocos kilos puede hacer una gran diferencia.\n",
      "\n",
      "4.  **Reduce el Estrés:**\n",
      "    *   El estrés crónico puede subir la presión. Busca formas de relajarte: meditación, yoga, hobbies, pasar tiempo en la naturaleza, hablar con amigos o familiares.\n",
      "\n",
      "5.  **No Fumar:**\n",
      "    *   Fumar daña directamente las paredes de los vasos sanguíneos y hace que la presión suba cada vez que fumas. Es uno de los peores hábitos para tu corazón y tus arterias.\n",
      "\n",
      "6.  **Modera el Consumo de Alcohol:**\n",
      "    *   Beber demasiado alcohol puede aumentar la presión arterial y dañar tu corazón. Si bebes, hazlo con moderación.\n",
      "\n",
      "7.  **Revisiones Médicas Regulares:**\n",
      "    *   Incluso si te sientes bien, es importante que tu médico te tome la presión periódicamente, sobre todo si tienes más de 40 años o antecedentes familiares de hipertensión. Recuerda que no suele dar síntomas.\n",
      "\n",
      "---\n",
      "\n",
      "**En resumen:** La hipertensión es una presión demasiado alta y constante en tus arterias. Es peligrosa porque no da síntomas, pero daña tu cuerpo silenciosamente. La mejor forma de prevenirla es llevando un estilo de vida saludable: comer bien, hacer ejercicio, mantener un peso adecuado, evitar el tabaco y controlar el estrés. ¡Tu corazón te lo agradecerá!\n"
     ]
    }
   ],
   "source": [
    "from google import genai #importamos la libreria genai\n",
    "from dotenv import load_dotenv #importamos la libreria dotenv\n",
    "import os #importamos la libreria os\n",
    "load_dotenv() #cargamos las variables de entorno desde el archivo .env\n",
    "API_KEY= os.getenv(\"API_KEY\") #obtenemos la variable de entorno API_KEY\n",
    "#creamos un cliente de genai con la API_KEY\n",
    "client = genai.Client(api_key=API_KEY)\n",
    "#generamos contenido con el modelo gemini-2.5-flash\n",
    "response = client.models.generate_content(\n",
    "model= \"gemini-2.5-flash\",\n",
    "contents=\"Explica de forma sencilla qué es la hipertensión arterial y cómo puede prevenirse.\"\n",
    ")\n",
    "print(response.text)"
   ]
  },
  {
   "cell_type": "markdown",
   "id": "479e7ba2",
   "metadata": {},
   "source": [
    "### Uso de  <pre> ```generate_content_stream' ``` </pre>\n",
    " #### En este caso, el hospital usa la IA para responder preguntas largas de los pacientes de forma más rápida y fluida.\n",
    " - Con generate_content_stream, el asistente muestra la respuesta en tiempo real, lo que permite atender más rápido las consultas y mejorar la interacción con el paciente."
   ]
  },
  {
   "cell_type": "code",
   "execution_count": 7,
   "id": "ea0babf5",
   "metadata": {},
   "outputs": [
    {
     "name": "stdout",
     "output_type": "stream",
     "text": [
      "La diabetes es una enfermedad crónica en la que el cuerpo no produce suficiente insulina o no puede utilizarla eficazmente, lo que lleva a niveles elevados de glucosa (azúcar) en la sangre. Detectarla a tiempo es crucial para prevenir complicaciones graves.\n",
      "\n",
      "### Síntomas Iniciales Comunes de la Diabetes\n",
      "\n",
      "Es importante recordar que los síntomas pueden variar en intensidad y aparición. En la diabetes tipo 1, los síntomas suelen aparecer de forma repentina y ser más pronunciados. En la diabetes tipo 2, pueden desarrollarse gradualmente y ser sutiles, incluso pasando desapercibidos durante años.\n",
      "\n",
      "Los síntomas iniciales más comunes incluyen:\n",
      "\n",
      "1.  **Poliuria (Micción frecuente):** Necesidad de orinar con mucha frecuencia, especialmente por la noche (nicturia), debido a que los riñones intentan eliminar el exceso de glucosa del cuerpo.\n",
      "2.  **Polidipsia (Sed excesiva):** Una sed intensa e insaciable, provocada por la deshidratación resultante de la micción frecuente.\n",
      "3.  **Polifagia (Aumento del apetito):** Sensación de hambre constante, incluso después de comer. Esto ocurre porque las células del cuerpo no reciben suficiente glucosa para obtener energía, a pesar de los altos niveles en sangre.\n",
      "4.  **Fatiga y cansancio extremo:** Sensación de debilidad y falta de energía, incluso después de descansar adecuadamente, debido a que las células no pueden utilizar la glucosa como combustible.\n",
      "5.  **Pérdida de peso inexplicable:** En la diabetes tipo 1, es muy común una pérdida de peso rápida y significativa sin haber cambiado la dieta o el nivel de actividad física. En la diabetes tipo 2, puede ocurrir, pero es menos frecuente y más gradual.\n",
      "6.  **Visión borrosa:** La fluctuación en los niveles de glucosa puede afectar los fluidos en los ojos, haciendo que el cristalino se hinche y cambie de forma, resultando en una visión intermitentemente borrosa o fluctuante.\n",
      "7.  **Llagas o heridas de lenta curación:** Los niveles altos de azúcar en la sangre pueden afectar la circulación y el sistema inmunitario, dificultando la cicatrización de cortes, rasguños o ampollas.\n",
      "8.  **Infecciones frecuentes:** Mayor propensión a infecciones, como infecciones urinarias (ITU), candidiasis vaginal (en mujeres), infecciones de la piel o encías, debido a que el azúcar elevado crea un ambiente favorable para el crecimiento de bacterias y hongos.\n",
      "9.  **Hormigueo o entumecimiento:** Sensación de hormigueo, punzadas o entumecimiento en manos o pies (neuropatía periférica inicial), que indica daño a los nervios.\n",
      "10. **Piel seca y picazón:** La deshidratación y los niveles altos de glucosa pueden causar sequedad y picazón en la piel.\n",
      "\n",
      "### ¿Cuándo debería consultar a un médico?\n",
      "\n",
      "Debería consultar a un médico lo antes posible si experimenta:\n",
      "\n",
      "*   **Cualquiera de los síntomas clásicos (micción frecuente, sed excesiva, hambre constante) de forma persistente y notable.** No espere si nota una combinación de estos síntomas.\n",
      "*   **Pérdida de peso inexplicada y rápida**, especialmente si viene acompañada de otros síntomas de diabetes. Esto es una señal de alarma importante para la diabetes tipo 1.\n",
      "*   **Visión borrosa que no mejora.**\n",
      "*   **Infecciones recurrentes o heridas que no cicatrizan.**\n",
      "*   **Fatiga extrema que interfiere con sus actividades diarias.**\n",
      "*   **Si tiene factores de riesgo para la diabetes** (como antecedentes familiares de diabetes, sobrepeso u obesidad, inactividad física, edad superior a 45 años, o si le han diagnosticado prediabetes previamente), y comienza a notar alguno de estos síntomas, es crucial que se haga una revisión.\n",
      "*   **Durante el embarazo**, si desarrolla síntomas de diabetes gestacional (aunque a menudo no hay síntomas, por eso se realizan pruebas de rutina).\n",
      "\n",
      "**No intente autodiagnosticarse.** Un médico podrá realizar pruebas de glucosa en sangre (en ayunas, prueba de tolerancia oral a la glucosa, o hemoglobina glicosilada A1c) para confirmar o descartar el diagnóstico de diabetes y determinar el tipo. La detección y el manejo temprano son fundamentales para controlar la enfermedad y prevenir complicaciones a largo plazo."
     ]
    }
   ],
   "source": [
    "\n",
    "response = client.models.generate_content_stream(\n",
    "    model=\"gemini-2.5-flash\",\n",
    "    contents=\"¿Cuáles son los síntomas iniciales de la diabetes y cuándo debería consultar a un médico?\"\n",
    ")\n",
    "\n",
    "for chunk in response:\n",
    "    print(chunk.text, end=\"\", flush=True)\n"
   ]
  },
  {
   "cell_type": "markdown",
   "id": "5e5e94a6",
   "metadata": {},
   "source": [
    "### Modelos Multimodales\n",
    " #### En el hospital quiere que la IA analice imágenes médicas, como radiografías o tomografías, para ayudar al personal a describirlas.\n",
    " - En este caso, la IA analizará la radiografia de una rodilla. El modelo describe lo que ve en la imagen sirviendo como  apoyo al diagnóstico médico, sin reemplazar al profesional.\n"
   ]
  },
  {
   "cell_type": "code",
   "execution_count": 8,
   "id": "bc2ad85c",
   "metadata": {},
   "outputs": [
    {
     "name": "stdout",
     "output_type": "stream",
     "text": [
      "Aquí hay una descripción de lo que se observa en la radiografía de rodilla y qué podría indicar:\n",
      "\n",
      "**Observaciones:**\n",
      "\n",
      "*   **Espacio articular reducido:** Tanto en la vista anteroposterior (AP) como en la lateral, el espacio entre el fémur (hueso del muslo) y la tibia (hueso de la espinilla) parece disminuido. Este es un hallazgo significativo.\n",
      "*   **Osteofitos:** En los bordes de los huesos (especialmente alrededor de la tibia y el fémur), se observan pequeñas protuberancias óseas. Estas son osteofitos, que son crecimientos óseos que se forman en respuesta al daño o degeneración de la articulación.\n",
      "*   **Esclerosis subcondral:** Puede haber un aumento de la densidad ósea (aparece más blanca) en la zona inmediatamente debajo del cartílago articular. Esto se conoce como esclerosis subcondral y es otro signo de desgaste articular.\n",
      "\n",
      "**Qué podría indicar:**\n",
      "\n",
      "En conjunto, estos hallazgos sugieren **osteoartritis (OA)** o **artrosis** de la rodilla. La osteoartritis es una condición degenerativa que afecta a las articulaciones, causando el desgaste del cartílago. Como resultado, los huesos pueden rozarse entre sí, provocando dolor, rigidez y limitación del movimiento.\n",
      "\n",
      "La reducción del espacio articular, la formación de osteofitos y la esclerosis subcondral son todos signos característicos de la osteoartritis.\n",
      "\n",
      "**Importante:**\n",
      "\n",
      "*   Esta es una interpretación basada únicamente en la radiografía. Un diagnóstico definitivo requiere la correlación con la historia clínica del paciente, un examen físico y, posiblemente, estudios adicionales.\n",
      "*   La gravedad de la osteoartritis no se puede determinar únicamente a partir de la radiografía.\n",
      "*   Es fundamental que esta radiografía sea evaluada por un médico calificado (radiólogo, traumatólogo, etc.) para obtener un diagnóstico preciso y un plan de tratamiento adecuado."
     ]
    }
   ],
   "source": [
    "from google.genai import types\n",
    "\n",
    "YOUR_IMAGE_PATH = './artrosis-rodilla.jpg'\n",
    "YOUR_IMAGE_MIME_TYPE = 'image/jpeg'\n",
    "\n",
    "with open(YOUR_IMAGE_PATH, 'rb') as f:\n",
    "    image_bytes = f.read()\n",
    "\n",
    "for chunk in client.models.generate_content_stream(\n",
    "    model='gemini-2.0-flash-001',\n",
    "    contents=[\n",
    "        'Describe lo que observas en esta radiografía y qué podría indicar de forma general.',\n",
    "        types.Part.from_bytes(data=image_bytes, mime_type=YOUR_IMAGE_MIME_TYPE),\n",
    "    ],\n",
    "):\n",
    "    print(chunk.text, end='')\n"
   ]
  }
 ],
 "metadata": {
  "kernelspec": {
   "display_name": "env",
   "language": "python",
   "name": "python3"
  },
  "language_info": {
   "codemirror_mode": {
    "name": "ipython",
    "version": 3
   },
   "file_extension": ".py",
   "mimetype": "text/x-python",
   "name": "python",
   "nbconvert_exporter": "python",
   "pygments_lexer": "ipython3",
   "version": "3.14.0"
  }
 },
 "nbformat": 4,
 "nbformat_minor": 5
}
